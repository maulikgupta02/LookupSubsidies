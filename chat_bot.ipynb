{
 "cells": [
  {
   "cell_type": "code",
   "execution_count": 162,
   "metadata": {},
   "outputs": [],
   "source": [
    "# with open(\"temp.txt\",\"w+\") as file:\n",
    "#     for _,sub in subsidies.iterrows():\n",
    "#         file.writelines(f\"Scheme Name:\\n{sub['Subsidy scheme']} \\n\")\n",
    "#         file.writelines(f\"Scheme Discription:\\n{sub['Description']} \\n\\n\")"
   ]
  },
  {
   "cell_type": "code",
   "execution_count": 163,
   "metadata": {},
   "outputs": [],
   "source": [
    "import pandas as pd\n",
    "# from langchain import PromptTemplate\n",
    "import json\n",
    "\n",
    "user_details={\n",
    "'gender':'female',\n",
    "'scheme_type':['Women'],\n",
    "'state':'Karnataka',\n",
    "'occupation':'artisan',\n",
    "}\n",
    "\n",
    "subsidies=pd.read_csv(\"./processed_subsidies.csv\")\n",
    "subsidies=subsidies[(subsidies[\"Scheme Type\"].isin(user_details['scheme_type'])) & (subsidies[\"Applicability Central/State\"].isin([\"Central\",user_details[\"state\"]]))]\n",
    "subsidies_str=subsidies[[\"Subsidy scheme\",\"eligibility_criteria\"]].to_csv(index=False)\n",
    "\n",
    "selected_user_details={key: user_details[key] for key in [\"gender\", \"state\", \"occupation\"]}\n",
    "\n",
    "user_details_str = json.dumps(selected_user_details, indent=4)\n",
    "\n",
    "llm_prompt_template = f\"\"\"You are an advisor who checks if the the user is eligible for any subsidy schemes listed below or not. \\\n",
    "Government subsidy programs: {subsidies_str} \\\n",
    "User details: {user_details_str}\\\n",
    "If there is no eligible subsidy, simply answer 'not elibible for any scheme'. \\\n",
    "Else return only the scheme names of all the eligible programs, without any explaination. \\\n",
    "List down the names of all the eligible schemes with * as marker for each scheme.\\\n",
    "Make sure to not assume any thing, and answer concisely.\\\n",
    "Answer concisely, with only the data provided. Do not add any additional information.\\\n",
    "\"\"\"\n",
    "\n",
    "# llm_prompt = PromptTemplate.from_template(llm_prompt_template)\n"
   ]
  },
  {
   "cell_type": "code",
   "execution_count": 164,
   "metadata": {},
   "outputs": [
    {
     "data": {
      "text/plain": [
       "'* TREAD\\n* Exemption from Stamp Duty\\n* Concessional Registration Charges\\n* Reimbursement of Non-Agriculture Conversion Fee\\n* Exemption from Entry Tax\\n* Subsidy for setting up Effluent Treatment Plant (ETP)\\n* Interest Subsidy for Micro Enterprises'"
      ]
     },
     "execution_count": 164,
     "metadata": {},
     "output_type": "execute_result"
    }
   ],
   "source": [
    "from langchain_ollama.llms import OllamaLLM\n",
    "\n",
    "model = OllamaLLM(model=\"llama3\") \n",
    "\n",
    "response=model.invoke(llm_prompt_template).strip(\"'\")\n",
    "\n",
    "response"
   ]
  },
  {
   "cell_type": "code",
   "execution_count": 165,
   "metadata": {},
   "outputs": [
    {
     "name": "stdout",
     "output_type": "stream",
     "text": [
      "* TREAD\n",
      "* Exemption from Stamp Duty\n",
      "* Concessional Registration Charges\n",
      "* Reimbursement of Non-Agriculture Conversion Fee\n",
      "* Exemption from Entry Tax\n",
      "* Subsidy for setting up Effluent Treatment Plant (ETP)\n",
      "* Interest Subsidy for Micro Enterprises\n"
     ]
    }
   ],
   "source": [
    "for i in response.split(\"\\n\"):\n",
    "    print(i)"
   ]
  },
  {
   "cell_type": "code",
   "execution_count": 166,
   "metadata": {},
   "outputs": [
    {
     "data": {
      "text/plain": [
       "['TREAD',\n",
       " 'Exemption from Stamp Duty',\n",
       " 'Concessional Registration Charges',\n",
       " 'Reimbursement of Non-Agriculture Conversion Fee',\n",
       " 'Exemption from Entry Tax',\n",
       " 'Subsidy for setting up Effluent Treatment Plant (ETP)',\n",
       " 'Interest Subsidy for Micro Enterprises']"
      ]
     },
     "execution_count": 166,
     "metadata": {},
     "output_type": "execute_result"
    }
   ],
   "source": [
    "eligible_schemes=response.split(\"*\")[1:]\n",
    "for i in range(len(eligible_schemes)):\n",
    "    eligible_schemes[i]=eligible_schemes[i].strip(\" \\n\\'\\\"\")\n",
    "eligible_schemes"
   ]
  },
  {
   "cell_type": "code",
   "execution_count": 45,
   "metadata": {},
   "outputs": [
    {
     "name": "stdout",
     "output_type": "stream",
     "text": [
      "Vector database created and saved to 'vector_db.index'\n"
     ]
    }
   ],
   "source": [
    "from langchain_community.chat_models import ChatOllama\n",
    "from langchain_ollama import OllamaEmbeddings\n",
    "from langchain.schema.output_parser import StrOutputParser\n",
    "from langchain.text_splitter import RecursiveCharacterTextSplitter\n",
    "# from langchain_experimental.text_splitter import SemanticChunker\n",
    "from langchain.schema.runnable import RunnablePassthrough\n",
    "from langchain.prompts import PromptTemplate\n",
    "from langchain.schema import Document\n",
    "import pandas as pd\n",
    "import faiss\n",
    "import numpy as np\n",
    "\n",
    "docs=pd.read_csv(\"processed_subsidies.csv\").to_csv(index=False)\n",
    "\n",
    "doc = Document(page_content=docs)\n",
    "            \n",
    "# Split document into chunks\n",
    "chunks = RecursiveCharacterTextSplitter(chunk_size=1000, chunk_overlap=100).split_documents([doc])\n",
    "# chunks = SemanticChunker(OllamaEmbeddings(model=\"llama3\")).split_documents([doc])\n",
    "\n",
    "# Extract text content from Document objects\n",
    "texts = [chunk.page_content for chunk in chunks]\n",
    "np.save('texts.npy', texts)\n",
    "            \n",
    "# Create embeddings\n",
    "embeddings = OllamaEmbeddings(model=\"llama3\")\n",
    "embedding_vectors = np.array([embeddings.embed_documents([text])[0] for text in texts], dtype=np.float32)\n",
    "            \n",
    "# Initialize FAISS index\n",
    "dimension = embedding_vectors.shape[1]  # Dimensionality of the embedding vectors\n",
    "index = faiss.IndexFlatL2(dimension)  # Using L2 distance for similarity\n",
    "index.add(embedding_vectors)  # Add vectors to the index\n",
    "            \n",
    "\n",
    "# Save the index to disk\n",
    "faiss.write_index(index, 'vector_db.index')\n",
    "print(\"Vector database created and saved to 'vector_db.index'\")"
   ]
  },
  {
   "cell_type": "code",
   "execution_count": 19,
   "metadata": {},
   "outputs": [
    {
     "name": "stdout",
     "output_type": "stream",
     "text": [
      "Vector database loaded from 'vector_db.index'\n"
     ]
    }
   ],
   "source": [
    "# import faiss\n",
    "# import numpy as np\n",
    "\n",
    "# # Load the index from disk\n",
    "# index = faiss.read_index('vector_db.index')\n",
    "# print(\"Vector database loaded from 'vector_db.index'\")\n"
   ]
  },
  {
   "cell_type": "code",
   "execution_count": 21,
   "metadata": {},
   "outputs": [
    {
     "name": "stdout",
     "output_type": "stream",
     "text": [
      "Nearest neighbors indices: [[358  14 193 128 117]]\n",
      "Distances: [[22985.398 23461.973 24395.008 24603.648 26015.02 ]]\n"
     ]
    },
    {
     "data": {
      "text/plain": [
       "['Private Developer will allot the shed to SC/ST entrepreneur in the mini estate developed by him and approved under state government scheme.',\n",
       " 'private industrial estates /parks/food parks,SPV formed by GoK/GoI,and other approved industrial parks shall be exempted as below:',\n",
       " 'The component proposes to provide financial assistance to the Apex Co-operative Societies, Central Co-op. Societies, Primary Co-operative Societies, Public Sector Enterprises, franchisees appointed by Coir Board in the coir industry and the Showroom and Sales Depots / Hindustan Coir of the Coir Board. The MDA is granted at the rate of 10% of their average annual sales turnover of coir products including coir fibre, coir pith, coir pith block, coir pith products, coir pith organic manure, coir yarn, mats, matting, rubberized coir goods, coir geotextile, garden articles, coir bags, coir umbrella, coir chapel, coir ornaments, coir handicrafts, coir wood and other innovative products during the preceding three financial years, subject to the condition that 5% increase should have been achieved over the immediate previous year. This Assistance will be shared on 1:1 basis between the Central Government and the concerned State/Union Territory Government.',\n",
       " '1.Mega Food Parks\\r\\n                                            2.Integrated cold chain and value-added infrastructure\\r\\n                                             3.Creation/expansion of food processing\\r\\n                                              4.Infrastructure for Agro processing clusters\\r\\n                                               5.Creation of backward and forward linkages\\r\\n                                             6.Food safety and quality assurance infrastructure\\r\\n                              7.Human resources and institutions\\nAmount or percentage of subsidy:',\n",
       " 'A comprehensive scheme is launched as the Comprehensive Scheme for Power loom Sector Development and the same came into effect on 1st April, 2017 and would be for a duration up to 31 March, 2020. 15 Power loom Service Centres under Office of the Textile Commissioner (Tx.C), 26 Textile Research Associations (TRAs) and 6 State Govt. offer various services like training, sample testing, design development, consultancy, conducting seminar/ workshop, etc. to the power loom sector on behalf of the Government.']"
      ]
     },
     "execution_count": 21,
     "metadata": {},
     "output_type": "execute_result"
    }
   ],
   "source": [
    "# query=\"Is there any subsidy scheme for a low income farmer ?\"\n",
    "\n",
    "# query_vector = embeddings.embed_documents([query])[0]\n",
    "# query_vector = np.array([query_vector], dtype=np.float32)\n",
    "\n",
    "# k = 5  # number of nearest neighbors\n",
    "# D, I = index.search(query_vector, k)  # D: distances, I: indices\n",
    "\n",
    "# print(f\"Nearest neighbors indices: {I}\")\n",
    "# print(f\"Distances: {D}\")\n",
    "\n",
    "# retrieved_texts = [texts[idx] for idx in I[0]]\n",
    "# retrieved_texts"
   ]
  },
  {
   "cell_type": "code",
   "execution_count": 44,
   "metadata": {},
   "outputs": [],
   "source": [
    "from langchain_ollama.llms import OllamaLLM\n",
    "import pandas as pd\n",
    "import faiss\n",
    "import numpy as np\n",
    "from langchain_ollama import OllamaEmbeddings\n",
    "\n",
    "\n",
    "def chat_bot_subsidies(query):\n",
    "    model = OllamaLLM(model=\"llama3\") \n",
    "    embeddings = OllamaEmbeddings(model=\"llama3\")\n",
    "    index = faiss.read_index('vector_db.index')\n",
    "    texts = np.load('texts.npy', allow_pickle=True)\n",
    "    query_vector = embeddings.embed_documents([query])[0]\n",
    "    query_vector = np.array([query_vector], dtype=np.float32)\n",
    "\n",
    "    k = 5  # number of nearest neighbors\n",
    "    D, I = index.search(query_vector, k)  # D: distances, I: indices\n",
    "    retrieved_texts = [texts[idx] for idx in I[0]]\n",
    "\n",
    "    llm_prompt_template = f\"\"\"You are an assistant who needs to answer to the user queries. \\\n",
    "    Retrieved Context: {retrieved_texts} \\\n",
    "    User questions: {query}\\\n",
    "    Make sure to respond only from the information provided \\\n",
    "    Do not assume any data. \\\n",
    "    If the question is unrelated to the context, simply return \"Sorry, I am not able to respond to your query !\" only. Do not add any additional details and explaination. \\\n",
    "    Make sure to not add any additional data and notes.\n",
    "    \"\"\"\n",
    "\n",
    "    response=model.invoke(llm_prompt_template)\n",
    "\n",
    "    return response"
   ]
  },
  {
   "cell_type": "code",
   "execution_count": 49,
   "metadata": {},
   "outputs": [
    {
     "name": "stdout",
     "output_type": "stream",
     "text": [
      "According to the provided context, subsidies for MSMEs by the Center include:\n",
      "\n",
      "* 6% interest subsidy on term loan amount up to INR 25 lakh p.a. for 5 years\n",
      "* Additional incentive of 1% interest subsidy to registered start-ups in service sector and having Udyam and MSME registration\n",
      "\n",
      "Please note that these subsidies are subject to specific eligibility criteria mentioned in the context.\n"
     ]
    }
   ],
   "source": [
    "print(chat_bot_subsidies(\"tell me about subsidies for msme by center\"))"
   ]
  }
 ],
 "metadata": {
  "kernelspec": {
   "display_name": "venv",
   "language": "python",
   "name": "python3"
  },
  "language_info": {
   "codemirror_mode": {
    "name": "ipython",
    "version": 3
   },
   "file_extension": ".py",
   "mimetype": "text/x-python",
   "name": "python",
   "nbconvert_exporter": "python",
   "pygments_lexer": "ipython3",
   "version": "3.12.4"
  }
 },
 "nbformat": 4,
 "nbformat_minor": 2
}
